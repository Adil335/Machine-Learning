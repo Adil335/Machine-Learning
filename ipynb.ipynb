{
 "cells": [
  {
   "cell_type": "code",
   "execution_count": 2,
   "metadata": {},
   "outputs": [
    {
     "name": "stdout",
     "output_type": "stream",
     "text": [
      "[0.0, 10.392304845413264, 20.784609690826528]\n",
      "[10.392304845413264, 0.0, 10.392304845413264]\n",
      "[20.784609690826528, 10.392304845413264, 0.0]\n"
     ]
    }
   ],
   "source": [
    "X = [[2, 4, 6], [8, 10, 12], [14, 16, 18]]\n",
    "\n",
    "Y = [[1, 3, 5], [7, 9, 11],[13, 15, 17]]\n",
    "\n",
    "def euclidean(v1, v2):\n",
    "    return sum((p-q)**2 for p, q in zip(v1, v2)) ** .5\n",
    "def main_1(X,Y):\n",
    "    d2 = []\n",
    "    for i in Y:\n",
    "        foo = [euclidean(i, j) for j in Y]\n",
    "        d2.append(foo)\n",
    "    return d2\n",
    "d3=main_1(X,Y)\n",
    "l=0\n",
    "for sublist in d3:\n",
    "    print(d3[l])\n",
    "    l+=1"
   ]
  },
  {
   "cell_type": "code",
   "execution_count": 4,
   "metadata": {},
   "outputs": [
    {
     "name": "stdout",
     "output_type": "stream",
     "text": [
      "[[ 0.         10.39230485 20.78460969]\n",
      " [10.39230485  0.         10.39230485]\n",
      " [20.78460969 10.39230485  0.        ]]\n"
     ]
    }
   ],
   "source": [
    "import numpy as np\n",
    "X=np.array([[2, 4, 6], [8, 10, 12], [14, 16, 18]])\n",
    "Y=np.array([[1, 3, 5], [7, 9, 11],[13, 15, 17]])\n",
    "\n",
    "def run_euc(list_a,list_b):\n",
    "    return np.array([[ np.linalg.norm(i-j) for j in list_b] for i in list_b])\n",
    "\n",
    "print(run_euc(X,Y))"
   ]
  },
  {
   "cell_type": "code",
   "execution_count": 5,
   "metadata": {},
   "outputs": [
    {
     "name": "stdout",
     "output_type": "stream",
     "text": [
      "122 µs ± 4.9 µs per loop (mean ± std. dev. of 7 runs, 10000 loops each)\n",
      "114 µs ± 13.8 µs per loop (mean ± std. dev. of 7 runs, 10000 loops each)\n"
     ]
    }
   ],
   "source": [
    "%timeit d4=main_1(X,Y)\n",
    "%timeit run_euc(X,Y)"
   ]
  },
  {
   "cell_type": "code",
   "execution_count": null,
   "metadata": {},
   "outputs": [],
   "source": []
  }
 ],
 "metadata": {
  "kernelspec": {
   "display_name": "Python 3",
   "language": "python",
   "name": "python3"
  },
  "language_info": {
   "codemirror_mode": {
    "name": "ipython",
    "version": 3
   },
   "file_extension": ".py",
   "mimetype": "text/x-python",
   "name": "python",
   "nbconvert_exporter": "python",
   "pygments_lexer": "ipython3",
   "version": "3.7.4"
  },
  "vscode": {
   "interpreter": {
    "hash": "23bf0724a01b6ea9814e66f76182ea78c0ee849a72ca257c0e116bf83bb4960a"
   }
  }
 },
 "nbformat": 4,
 "nbformat_minor": 2
}
